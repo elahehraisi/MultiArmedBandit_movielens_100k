{
 "cells": [
  {
   "cell_type": "markdown",
   "metadata": {},
   "source": [
    "# Implementing Thompson Sampling For MovieLens 100k Datasaet\n"
   ]
  },
  {
   "cell_type": "markdown",
   "metadata": {},
   "source": [
    "### Initialization python envirnment\n"
   ]
  },
  {
   "cell_type": "code",
   "execution_count": 4,
   "metadata": {},
   "outputs": [],
   "source": [
    "import pandas as pd\n",
    "from sklearn.model_selection import train_test_split\n",
    "import numpy as np\n",
    "import random\n",
    "import statistics\n",
    "import matplotlib.pyplot as plt\n",
    "rng = np.random.default_rng()\n"
   ]
  },
  {
   "cell_type": "markdown",
   "metadata": {},
   "source": [
    "\n",
    "### Loading the data and define train and test data"
   ]
  },
  {
   "cell_type": "code",
   "execution_count": 5,
   "metadata": {},
   "outputs": [],
   "source": [
    "item_file = 'ml-100k/u.item'\n",
    "user_file = 'ml-100k/u.user'\n",
    "rating_file = 'ml-100k/u.data'\n",
    "\n",
    "\n",
    "item_cols = [\n",
    "    'movie_id', 'title', 'release_date', 'video_release_date', 'IMDb_URL',\n",
    "] + [f'genre_{i}' for i in range(19)]  # 19 genres\n",
    "\n",
    "rating_cols = ['user_id', 'movie_id', 'rating', 'timestamp']\n",
    "\n",
    "user_cols = ['user_id', 'age', 'gender', 'occupation', 'zip_code']\n",
    "\n",
    "items = pd.read_csv(item_file, sep='|', encoding='latin-1', names=item_cols, header=None)\n",
    "users = pd.read_csv(user_file, sep='|', names=user_cols, header=None)\n",
    "\n",
    "ratings = pd.read_csv(rating_file, sep='\\t', names=rating_cols, header=None)\n",
    "\n",
    "#  sorting ratings by timestamp before splitting to simulate chronological learning:\n",
    "ratings = ratings.sort_values(by='timestamp')\n",
    "\n",
    "X = ratings.drop('rating', axis=1)\n",
    "y = ratings['rating']\n",
    "\n",
    "ix = int(len(ratings) * 0.8)\n",
    "train = ratings.iloc[0:ix,:]\n",
    "test = ratings.iloc[ix:,:]"
   ]
  },
  {
   "cell_type": "markdown",
   "metadata": {},
   "source": [
    "### Define Arms to be Movie Ids"
   ]
  },
  {
   "cell_type": "code",
   "execution_count": 6,
   "metadata": {},
   "outputs": [],
   "source": [
    "unique_arms = ratings['movie_id'].unique()\n"
   ]
  },
  {
   "cell_type": "markdown",
   "metadata": {},
   "source": [
    "# Thompson Sampling\n",
    "\n",
    "In Thompson sampling, we assume there are K arms, each with reward 1 with probaiblity $\\theta_k$, and reward 0 with probability of $1-\\theta_k$. This is Bernoulli distribution and $\\theta_k$ can be mean reward.\n",
    "\n",
    "The prior distribution for Bernoulli distribution is be $Beta(\\alpha, \\beta)$, and based on conjugate prior properties, the posterior will be _Beta_ distribution and it will be updated by:\n",
    "\n",
    "$$\n",
    "    (\\alpha_k, \\beta_k)= \n",
    "\\begin{cases}\n",
    "    (\\alpha_k, \\beta_k),& \\text{if } x_k \\neq k\\\\\n",
    "    (\\alpha_k, \\beta_k) + (r_t, 1-r_t),& \\text{else } \n",
    "\\end{cases}\n",
    "$$\n",
    "\n",
    "$r_t$ could be 0 or 1. if it's 1, then $\\alpha_k$ will be added by 1 and if it's 0, $\\beta_k$ will be added by 1."
   ]
  },
  {
   "cell_type": "code",
   "execution_count": 7,
   "metadata": {},
   "outputs": [],
   "source": [
    "# Thompson Sampling class\n",
    "class ThompsonSampling:\n",
    "    def __init__(self, arms):\n",
    "        self.arms = arms  # list of movie_ids\n",
    "        # standard uninformative priors for Beta(1, 1)\n",
    "        self.alpha = {arm: 1.0 for arm in arms}  # prior: 1 success\n",
    "        self.beta = {arm: 1.0 for arm in arms} # prior: 1 failure\n",
    "\n",
    "    def select_arm(self):\n",
    "        samples = {}\n",
    "        \n",
    "        for arm in self.arms:\n",
    "            alpha = self.alpha[arm]\n",
    "            beta = self.beta[arm]\n",
    "            samples[arm] = rng.beta(alpha, beta) # sample from posterior distribution\n",
    "        \n",
    "        return max(samples, key=samples.get)\n",
    "\n",
    "\n",
    "    def update(self, chosen_arm, reward):\n",
    "        if reward == 1:\n",
    "            self.alpha[chosen_arm] += 1\n",
    "        else:\n",
    "            self.beta[chosen_arm] += 1\n",
    "            \n",
    "    def get_posterior_mean(self):\n",
    "        mean = {}\n",
    "        for arm in self.arms:\n",
    "            mean[arm] = self.alpha[arm]/(self.alpha[arm] + self.beta[arm])\n",
    "        return mean       "
   ]
  },
  {
   "cell_type": "markdown",
   "metadata": {},
   "source": [
    "### Online Training\n",
    "We simulate online interactions"
   ]
  },
  {
   "cell_type": "code",
   "execution_count": 8,
   "metadata": {},
   "outputs": [
    {
     "name": "stdout",
     "output_type": "stream",
     "text": [
      "Total Interactions: 2253\n",
      "Total Reward (ratings ≥ 4): 97\n",
      "Average Reward: 0.0431\n"
     ]
    }
   ],
   "source": [
    "\n",
    "ts = ThompsonSampling(unique_arms)\n",
    "\n",
    "\n",
    "total_interactions = 0\n",
    "total_rewards = 0\n",
    "\n",
    "num_interactions_per_user = 3  # <--- you can change this number\n",
    "\n",
    "unique_users = train['user_id'].unique()\n",
    "\n",
    "for user_id in unique_users:\n",
    "    for _ in range(num_interactions_per_user):\n",
    "        chosen_movie = ts.select_arm()\n",
    "        # Check if this user rated the chosen movie\n",
    "        row = train[(train['user_id'] == user_id) & (train['movie_id'] == chosen_movie)]\n",
    "        \n",
    "        \n",
    "        reward = 0\n",
    "        if len(row) > 0:\n",
    "            #If a user rated the same movie multiple times (which is rare but possible in some systems),\n",
    "            #you might want to take the most recent rating (or average).\n",
    "            rating = row.sort_values(by='timestamp', ascending=False).iloc[0]['rating']\n",
    "\n",
    "            #OR\n",
    "            #rating = row.iloc[0]['rating']\n",
    "            \n",
    "            reward = int(rating >= 4)\n",
    "            \n",
    "            \n",
    "        ts.update(chosen_movie, reward)\n",
    "        total_rewards += reward\n",
    "        total_interactions += 1\n",
    "    \n",
    "print(f\"Total Interactions: {total_interactions}\")\n",
    "print(f\"Total Reward (ratings ≥ 4): {total_rewards}\")\n",
    "print(f\"Average Reward: {total_rewards / total_interactions:.4f}\")"
   ]
  },
  {
   "cell_type": "markdown",
   "metadata": {},
   "source": [
    "# Evaluation\n",
    "Compute precision@k"
   ]
  },
  {
   "cell_type": "code",
   "execution_count": 9,
   "metadata": {},
   "outputs": [
    {
     "name": "stdout",
     "output_type": "stream",
     "text": [
      "0.18073089700996686\n"
     ]
    }
   ],
   "source": [
    "def is_recommended(row):\n",
    "    if (row['rating']>=4):\n",
    "        return 1\n",
    "    else:\n",
    "        return 0\n",
    "\n",
    "\n",
    "k = 5\n",
    "precision_k = 0\n",
    "unique_users = test['user_id'].unique()\n",
    "user_count = len(unique_users)\n",
    "\n",
    "mean = ts.get_posterior_mean()\n",
    "\n",
    "value_sorted = sorted(mean.items(), key = lambda x:x[1], reverse = True)\n",
    "\n",
    "#If we decide to use only top k movies\n",
    "selected_movies = [item[0] for item in value_sorted[:k]]\n",
    "\n",
    "\n",
    "\n",
    "for user in unique_users:\n",
    "    \n",
    "    filtered_test = test.loc[(test['user_id'] == user) & (test['movie_id'].isin(selected_movies))].copy()\n",
    "    if len(filtered_test)>0:\n",
    "        filtered_test['result'] = filtered_test.apply(is_recommended, axis = 1)\n",
    "        count = filtered_test['result'].sum()\n",
    "        precision_k += (count/k)\n",
    "precision_k = precision_k/user_count\n",
    "print(precision_k)\n",
    "    \n",
    "    "
   ]
  },
  {
   "cell_type": "markdown",
   "metadata": {},
   "source": [
    "### Average cumulative rewards with simulation\n"
   ]
  },
  {
   "cell_type": "code",
   "execution_count": 10,
   "metadata": {
    "scrolled": true
   },
   "outputs": [
    {
     "data": {
      "image/png": "[encoded data removed]",
      "text/plain": [
       "<Figure size 432x288 with 1 Axes>"
      ]
     },
     "metadata": {
      "needs_background": "light"
     },
     "output_type": "display_data"
    }
   ],
   "source": [
    "\n",
    "num_simulations = 100\n",
    "\n",
    "    \n",
    "all_runs = [] # stores cumulative rewards from each simulation\n",
    "\n",
    "for sim in range(num_simulations):\n",
    "\n",
    "    ts = ThompsonSampling(unique_arms)\n",
    "\n",
    "    total_interactions = 0\n",
    "    total_rewards = 0\n",
    "\n",
    "    num_interactions_per_user = 1  # <--- you can change this number\n",
    "\n",
    "    # To ensure diverse simulations, shuffle users in each run\n",
    "    unique_users = np.random.permutation(train['user_id'].unique())\n",
    "\n",
    "    cum_reward =[]\n",
    "    cur_step = 0\n",
    "\n",
    "    for user_id in unique_users:\n",
    "        for _ in range(num_interactions_per_user):\n",
    "            chosen_movie = ts.select_arm()\n",
    "            # Check if this user rated the chosen movie\n",
    "            row = train[(train['user_id'] == user_id) & (train['movie_id'] == chosen_movie)]\n",
    "\n",
    "            reward = 0 ## DEFAULT: Assume 0 reward if the user didn't rate the chosen movie\n",
    "            if len(row) > 0:\n",
    "                rating = row.iloc[0]['rating']\n",
    "                reward = int(rating >= 4)\n",
    "\n",
    "            ts.update(chosen_movie, reward)\n",
    "            total_rewards += reward\n",
    "            total_interactions += 1\n",
    "\n",
    "            cum_reward.append(total_rewards)\n",
    "\n",
    "    all_runs.append(cum_reward)\n",
    "\n",
    "\n",
    "ave_cum_reward = np.mean(all_runs, axis=0)        \n",
    "plt.plot(ave_cum_reward)\n",
    "\n",
    "plt.title('Thompson Sampling: Average Cumulative Reward over Multiple Simulations')\n",
    "plt.xlabel('Interaction Step')\n",
    "plt.ylabel('Average Cumulative Reward')\n",
    "plt.show()\n"
   ]
  },
  {
   "cell_type": "code",
   "execution_count": null,
   "metadata": {},
   "outputs": [],
   "source": []
  }
 ],
 "metadata": {
  "kernelspec": {
   "display_name": "Python 3",
   "language": "python",
   "name": "python3"
  },
  "language_info": {
   "codemirror_mode": {
    "name": "ipython",
    "version": 3
   },
   "file_extension": ".py",
   "mimetype": "text/x-python",
   "name": "python",
   "nbconvert_exporter": "python",
   "pygments_lexer": "ipython3",
   "version": "3.7.6"
  }
 },
 "nbformat": 4,
 "nbformat_minor": 4
}
