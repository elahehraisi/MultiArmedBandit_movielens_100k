{
 "cells": [
  {
   "cell_type": "markdown",
   "metadata": {},
   "source": [
    "# Implementing Upper Confident Bound For MovieLens 100k Datasaet\n"
   ]
  },
  {
   "cell_type": "markdown",
   "metadata": {},
   "source": [
    "### Initialization python envirnment\n"
   ]
  },
  {
   "cell_type": "code",
   "execution_count": 1,
   "metadata": {},
   "outputs": [],
   "source": [
    "import pandas as pd\n",
    "from sklearn.model_selection import train_test_split\n",
    "import numpy as np\n",
    "import random\n",
    "import statistics\n",
    "import matplotlib.pyplot as plt\n",
    "import math"
   ]
  },
  {
   "cell_type": "markdown",
   "metadata": {},
   "source": [
    "\n",
    "### Loading the data and define train and test data"
   ]
  },
  {
   "cell_type": "code",
   "execution_count": 2,
   "metadata": {},
   "outputs": [],
   "source": [
    "item_file = 'ml-100k/u.item'\n",
    "user_file = 'ml-100k/u.user'\n",
    "rating_file = 'ml-100k/u.data'\n",
    "\n",
    "\n",
    "item_cols = [\n",
    "    'movie_id', 'title', 'release_date', 'video_release_date', 'IMDb_URL',\n",
    "] + [f'genre_{i}' for i in range(19)]  # 19 genres\n",
    "\n",
    "rating_cols = ['user_id', 'movie_id', 'rating', 'timestamp']\n",
    "\n",
    "user_cols = ['user_id', 'age', 'gender', 'occupation', 'zip_code']\n",
    "\n",
    "items = pd.read_csv(item_file, sep='|', encoding='latin-1', names=item_cols, header=None)\n",
    "users = pd.read_csv(user_file, sep='|', names=user_cols, header=None)\n",
    "\n",
    "ratings = pd.read_csv(rating_file, sep='\\t', names=rating_cols, header=None)\n",
    "\n",
    "#  sorting ratings by timestamp before splitting to simulate chronological learning:\n",
    "ratings = ratings.sort_values(by='timestamp')\n",
    "\n",
    "X = ratings.drop('rating', axis=1)\n",
    "y = ratings['rating']\n",
    "\n",
    "ix = int(len(ratings) * 0.8)\n",
    "train = ratings.iloc[0:ix,:]\n",
    "test = ratings.iloc[ix:,:]"
   ]
  },
  {
   "cell_type": "markdown",
   "metadata": {},
   "source": [
    "### Define Arms to be Movie Ids"
   ]
  },
  {
   "cell_type": "code",
   "execution_count": 3,
   "metadata": {},
   "outputs": [],
   "source": [
    "n_arms = len(ratings['movie_id'].unique()) #1682\n",
    "unique_arms = ratings['movie_id'].unique()\n"
   ]
  },
  {
   "cell_type": "markdown",
   "metadata": {},
   "source": [
    "# Upper Confidence Bound Class\n",
    "\n",
    "Action Selection:\n",
    "$$A_t = \\arg\\max_a \\big[Q_t(a) + c \\sqrt{\\frac{\\ln(t)}{N_t(a)}}\\big]$$"
   ]
  },
  {
   "cell_type": "code",
   "execution_count": 4,
   "metadata": {},
   "outputs": [],
   "source": [
    "# UpperConfidenceBound class\n",
    "class UpperConfidenceBound:\n",
    "    def __init__(self, arms, c):\n",
    "        self.arms = arms  # list of movie_ids\n",
    "        self.c = c\n",
    "        self.time = 0\n",
    "        self.Q = {arm: 0.0 for arm in arms}  # optimistic init arm:1\n",
    "        self.N = {arm: 0 for arm in arms}\n",
    "\n",
    "    def select_arm(self):\n",
    "        self.time += 1\n",
    "        max_q_value = -float('inf')\n",
    "        selected_arm = None\n",
    "        \n",
    "        for arm_id, cur_q_value in self.Q.items():\n",
    "            if self.N[arm_id] == 0:\n",
    "                ucb_value = float('inf')\n",
    "            else:\n",
    "                ucb_value = cur_q_value + self.c * math.sqrt(math.log(self.time)/self.N[arm_id])\n",
    "                \n",
    "            if ucb_value > max_q_value:\n",
    "                max_q_value = ucb_value\n",
    "                selected_arm = arm_id\n",
    "            \n",
    "        return selected_arm\n",
    "\n",
    "    def update(self, chosen_arm, reward):\n",
    "        self.N[chosen_arm] += 1\n",
    "        n = self.N[chosen_arm]\n",
    "        self.Q[chosen_arm] += (1 / n) * (reward - self.Q[chosen_arm])\n",
    "\n",
    "    def average_q(self):\n",
    "        return statistics.mean(self.Q.values())"
   ]
  },
  {
   "cell_type": "markdown",
   "metadata": {},
   "source": [
    "### Online Training\n",
    "We simulate online interactions"
   ]
  },
  {
   "cell_type": "code",
   "execution_count": 5,
   "metadata": {
    "scrolled": true
   },
   "outputs": [
    {
     "name": "stdout",
     "output_type": "stream",
     "text": [
      "Total Interactions: 2253\n",
      "Total Reward (ratings ≥ 4): 217\n",
      "Average Reward: 0.0963\n"
     ]
    }
   ],
   "source": [
    "\n",
    "c = 0.1\n",
    "ucb = UpperConfidenceBound(unique_arms, c)\n",
    "\n",
    "\n",
    "total_interactions = 0\n",
    "total_rewards = 0\n",
    "\n",
    "num_interactions_per_user = 3  # <--- we can change this number\n",
    "\n",
    "unique_users = train['user_id'].unique()\n",
    "\n",
    "for user_id in unique_users:\n",
    "    for _ in range(num_interactions_per_user):\n",
    "        chosen_movie = ucb.select_arm()\n",
    "        # Check if this user rated the chosen movie\n",
    "        row = train[(train['user_id'] == user_id) & (train['movie_id'] == chosen_movie)]\n",
    "        \n",
    "        \n",
    "        reward = 0\n",
    "        if len(row) > 0:\n",
    "            #If a user rated the same movie multiple times (which is rare but possible in some systems),\n",
    "            #you might want to take the most recent rating (or average).\n",
    "            rating = row.sort_values(by='timestamp', ascending=False).iloc[0]['rating']\n",
    "\n",
    "            #OR\n",
    "            #rating = row.iloc[0]['rating']\n",
    "            \n",
    "            reward = int(rating >= 4)\n",
    "            \n",
    "            \n",
    "        ucb.update(chosen_movie, reward)\n",
    "        total_rewards += reward\n",
    "        total_interactions += 1\n",
    "    \n",
    "print(f\"Total Interactions: {total_interactions}\")\n",
    "print(f\"Total Reward (ratings ≥ 4): {total_rewards}\")\n",
    "print(f\"Average Reward: {total_rewards / total_interactions:.4f}\")"
   ]
  },
  {
   "cell_type": "markdown",
   "metadata": {},
   "source": [
    "# Evaluation\n",
    "Compute precision@k"
   ]
  },
  {
   "cell_type": "code",
   "execution_count": 6,
   "metadata": {},
   "outputs": [
    {
     "name": "stdout",
     "output_type": "stream",
     "text": [
      "0.11561461794019919\n"
     ]
    }
   ],
   "source": [
    "def is_recommended(row):\n",
    "    if (row['rating']>=4):\n",
    "        return 1\n",
    "    else:\n",
    "        return 0\n",
    "\n",
    "\n",
    "k = 5\n",
    "precision_k = 0\n",
    "unique_users = test['user_id'].unique()\n",
    "user_count = len(unique_users)\n",
    "Q_sorted = sorted(ucb.Q.items(), key = lambda x:x[1], reverse = True)\n",
    "\n",
    "#If we decide to use only top k movies\n",
    "selected_movies = [item[0] for item in Q_sorted[:k]]\n",
    "\n",
    "\n",
    "\n",
    "for user in unique_users:\n",
    "    \n",
    "    filtered_test = test.loc[(test['user_id'] == user) & (test['movie_id'].isin(selected_movies))].copy()\n",
    "    if len(filtered_test)>0:\n",
    "        filtered_test['result'] = filtered_test.apply(is_recommended, axis = 1)\n",
    "        count = filtered_test['result'].sum()\n",
    "        precision_k += (count/k)\n",
    "precision_k = precision_k/user_count\n",
    "print(precision_k)\n",
    "    \n",
    "    \n",
    "    "
   ]
  },
  {
   "cell_type": "markdown",
   "metadata": {},
   "source": [
    "### Average cumulative rewards with simulation\n",
    "\n",
    "the order of users matters in online training, even when users are fixed, because these algorithms (epsilon-greedy and UCB) learn incrementally. Early interactions shape the policy's decisions for later interactions — this creates **ordering bias**. The first few users strongly influence which arms look best (because exploration is limited).\n",
    "\n",
    "If early users rate certain movies highly, the algorithm may prematurely favor those arms (even if they're not globally best). Say your training data has these users at the top: Users who happen to rate *movie A* highly, then Epsilon-greedy or UCB will quickly favor *movie A*. Later users who might prefer other movies won't influence the policy much (especially in UCB, where exploration reduces over time).\n",
    "\n",
    "But if you reshuffle and put diverse users earlier, the policy might Explore other arms earlier, Learn a better estimate of global preferences.\n",
    "\n",
    "Both Epsilon-Greedy and UCB are **sequential decision-making algorithms**. They learn over time. At any given \"step\" (which, in your simulation, corresponds to interacting with a user), the algorithm makes a choice based on its current knowledge (the Q-values, N counts, and global time step t). After making a choice and receiving a reward, it updates this knowledge. The next decision will then be made based on this updated knowledge"
   ]
  },
  {
   "cell_type": "code",
   "execution_count": 18,
   "metadata": {},
   "outputs": [
    {
     "data": {
      "image/png": "[encoded data removed]",
      "text/plain": [
       "<Figure size 432x288 with 1 Axes>"
      ]
     },
     "metadata": {
      "needs_background": "light"
     },
     "output_type": "display_data"
    }
   ],
   "source": [
    "c_values = [0.1,0.2,0.3]\n",
    "\n",
    "num_simulations = 100\n",
    "\n",
    "for c in c_values:\n",
    "    \n",
    "    all_runs = [] # stores cumulative rewards from each simulation\n",
    "    \n",
    "    for sim in range(num_simulations):\n",
    "     \n",
    "        ucb = UpperConfidenceBound(unique_arms, c)\n",
    "\n",
    "        total_interactions = 0\n",
    "        total_rewards = 0\n",
    "\n",
    "        num_interactions_per_user = 1  # <--- you can change this number\n",
    "\n",
    "        # To ensure diverse simulations, shuffle users in each run\n",
    "        unique_users = np.random.permutation(train['user_id'].unique())\n",
    "\n",
    "#         unique_users = train['user_id'].unique()\n",
    "\n",
    "        cum_reward =[]\n",
    "        cur_step = 0\n",
    "\n",
    "        for user_id in unique_users:\n",
    "            for _ in range(num_interactions_per_user):\n",
    "                chosen_movie = ucb.select_arm()\n",
    "                # Check if this user rated the chosen movie\n",
    "                row = train[(train['user_id'] == user_id) & (train['movie_id'] == chosen_movie)]\n",
    "\n",
    "                reward = 0 ## DEFAULT: Assume 0 reward if the user didn't rate the chosen movie\n",
    "                if len(row) > 0:\n",
    "                    rating = row.iloc[0]['rating']\n",
    "                    reward = int(rating >= 4)\n",
    "                    \n",
    "                ucb.update(chosen_movie, reward)\n",
    "                total_rewards += reward\n",
    "                total_interactions += 1\n",
    "\n",
    "                cum_reward.append(total_rewards)\n",
    "                \n",
    "        all_runs.append(cum_reward)\n",
    "\n",
    "            \n",
    "    ave_cum_reward = np.mean(all_runs, axis=0)        \n",
    "    plt.plot(ave_cum_reward, label=f'UCB c {c}')\n",
    "\n",
    "plt.title('UCB: Average Cumulative Reward over Multiple Simulations')\n",
    "plt.xlabel('Interaction Step')\n",
    "plt.ylabel('Average Cumulative Reward')\n",
    "plt.legend()\n",
    "plt.show()\n"
   ]
  },
  {
   "cell_type": "code",
   "execution_count": null,
   "metadata": {},
   "outputs": [],
   "source": []
  }
 ],
 "metadata": {
  "kernelspec": {
   "display_name": "Python 3",
   "language": "python",
   "name": "python3"
  },
  "language_info": {
   "codemirror_mode": {
    "name": "ipython",
    "version": 3
   },
   "file_extension": ".py",
   "mimetype": "text/x-python",
   "name": "python",
   "nbconvert_exporter": "python",
   "pygments_lexer": "ipython3",
   "version": "3.7.6"
  }
 },
 "nbformat": 4,
 "nbformat_minor": 4
}
