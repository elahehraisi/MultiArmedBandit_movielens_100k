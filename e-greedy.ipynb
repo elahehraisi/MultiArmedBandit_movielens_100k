{
 "cells": [
  {
   "cell_type": "markdown",
   "metadata": {},
   "source": [
    "# Epsilon-Greedy for MovieLens 100k Datasaet\n"
   ]
  },
  {
   "cell_type": "markdown",
   "metadata": {},
   "source": [
    "### Initialization python envirnment"
   ]
  },
  {
   "cell_type": "code",
   "execution_count": 6,
   "metadata": {},
   "outputs": [],
   "source": [
    "import pandas as pd\n",
    "from sklearn.model_selection import train_test_split\n",
    "import numpy as np\n",
    "import random\n",
    "import statistics\n",
    "import matplotlib.pyplot as plt\n"
   ]
  },
  {
   "cell_type": "markdown",
   "metadata": {},
   "source": [
    "### Loading the data and define train and test data\n"
   ]
  },
  {
   "cell_type": "code",
   "execution_count": 7,
   "metadata": {},
   "outputs": [],
   "source": [
    "item_file = 'ml-100k/u.item'\n",
    "user_file = 'ml-100k/u.user'\n",
    "rating_file = 'ml-100k/u.data'\n",
    "\n",
    "item_cols = [\n",
    "    'movie_id', 'title', 'release_date', 'video_release_date', 'IMDb_URL',\n",
    "] + [f'genre_{i}' for i in range(19)]  # 19 genres\n",
    "\n",
    "rating_cols = ['user_id', 'movie_id', 'rating', 'timestamp']\n",
    "\n",
    "user_cols = ['user_id', 'age', 'gender', 'occupation', 'zip_code']\n",
    "\n",
    "items = pd.read_csv(item_file, sep='|', encoding='latin-1', names=item_cols, header=None)\n",
    "users = pd.read_csv(user_file, sep='|', names=user_cols, header=None)\n",
    "\n",
    "ratings = pd.read_csv(rating_file, sep='\\t', names=rating_cols, header=None)\n",
    "\n",
    "#  sorting ratings by timestamp before splitting to simulate chronological learning:\n",
    "ratings = ratings.sort_values(by='timestamp')\n",
    "\n",
    "ix = int(len(ratings) * 0.8)\n",
    "train = ratings.iloc[0:ix,:]\n",
    "test = ratings.iloc[ix:,:]"
   ]
  },
  {
   "cell_type": "markdown",
   "metadata": {},
   "source": [
    "### Define Arms to be Movie Ids"
   ]
  },
  {
   "cell_type": "code",
   "execution_count": 8,
   "metadata": {},
   "outputs": [],
   "source": [
    "n_arms = len(ratings['movie_id'].unique()) #1682\n",
    "unique_arms = ratings['movie_id'].unique()"
   ]
  },
  {
   "cell_type": "markdown",
   "metadata": {},
   "source": [
    "# Epsilon-Greedy Class\n",
    "\n",
    "For update:\n",
    "$$N(a) = N(a) + 1$$\n",
    "$$ Q(a) = Q(a) + \\frac{1}{N(a)} [R - Q(a)] $$"
   ]
  },
  {
   "cell_type": "code",
   "execution_count": 9,
   "metadata": {},
   "outputs": [],
   "source": [
    "class EpsilonGreedy:\n",
    "    def __init__(self, arms, epsilon):\n",
    "        self.arms = arms  # list of movie_ids\n",
    "        self.epsilon = epsilon\n",
    "        self.Q = {arm: 1.0 for arm in arms}  # optimistic init, we could initialize with value 0\n",
    "        self.N = {arm: 0 for arm in arms}\n",
    "\n",
    "    def select_arm(self):\n",
    "        if random.random() <= self.epsilon:\n",
    "            return random.choice(self.arms)\n",
    "        return max(self.Q, key=self.Q.get)\n",
    "\n",
    "    def update(self, chosen_arm, reward):\n",
    "        self.N[chosen_arm] += 1\n",
    "        n = self.N[chosen_arm]\n",
    "        self.Q[chosen_arm] += (1 / n) * (reward - self.Q[chosen_arm])\n",
    "\n",
    "    def average_q(self):\n",
    "        return statistics.mean(self.Q.values())\n",
    "        \n",
    "      "
   ]
  },
  {
   "cell_type": "markdown",
   "metadata": {},
   "source": [
    "### Offline Training with convergence check\n",
    "\n",
    "This is offline bandit, we use the logged data to update the epsilon greedy. we do not use select_arm() in offline setting"
   ]
  },
  {
   "cell_type": "code",
   "execution_count": null,
   "metadata": {},
   "outputs": [],
   "source": [
    "epsilon = 0.1\n",
    "eg = EpsilonGreedy(unique_arms, epsilon)\n",
    "\n",
    "no_improvement_counter = 0\n",
    "max_no_improvement = 3  # stop if no change for 3 consecutive epochs\n",
    "\n",
    "\n",
    "epoch = 0\n",
    "while True:\n",
    "    prev_gain = eg.average_q()\n",
    "    epoch += 1\n",
    "    print(epoch)\n",
    "    for i in range(len(train)):\n",
    "        row = train.iloc[i]\n",
    "        movie_id = row['movie_id']\n",
    "        reward = int(row['rating'] >= 4)\n",
    "                \n",
    "        eg.update(movie_id, reward)\n",
    "        \n",
    "    new_gain = eg.average_q()\n",
    "    print(abs(new_gain - prev_gain))\n",
    "    if abs(new_gain - prev_gain) < 0.1:\n",
    "        no_improvement_counter += 1\n",
    "    else:\n",
    "        no_improvement_counter = 0\n",
    "    \n",
    "    if no_improvement_counter >= max_no_improvement:\n",
    "        print(f\"No significant improvement for {max_no_improvement} epochs. Stopping.\")\n",
    "\n",
    "        break\n"
   ]
  },
  {
   "cell_type": "markdown",
   "metadata": {},
   "source": [
    "### Online Training\n",
    "We simulate online interactions"
   ]
  },
  {
   "cell_type": "code",
   "execution_count": 12,
   "metadata": {},
   "outputs": [
    {
     "name": "stdout",
     "output_type": "stream",
     "text": [
      "Total Interactions: 2253\n",
      "Total Reward (ratings ≥ 4): 201\n",
      "Average Reward: 0.0892\n"
     ]
    }
   ],
   "source": [
    "\n",
    "epsilon = 0.1\n",
    "eg = EpsilonGreedy(unique_arms, epsilon)\n",
    "\n",
    "\n",
    "total_interactions = 0\n",
    "total_rewards = 0\n",
    "\n",
    "num_interactions_per_user = 3  # <--- we can change this number\n",
    "\n",
    "unique_users = train['user_id'].unique()\n",
    "\n",
    "for user_id in unique_users:\n",
    "    for _ in range(num_interactions_per_user):\n",
    "        chosen_movie = eg.select_arm()\n",
    "        # Check if this user rated the chosen movie\n",
    "        row = train[(train['user_id'] == user_id) & (train['movie_id'] == chosen_movie)]\n",
    "\n",
    "        if len(row) > 0:\n",
    "            rating = row.iloc[0]['rating']\n",
    "            reward = int(rating >= 4)\n",
    "            eg.update(chosen_movie, reward)\n",
    "            total_rewards += reward\n",
    "        total_interactions += 1\n",
    "    \n",
    "print(f\"Total Interactions: {total_interactions}\")\n",
    "print(f\"Total Reward (ratings ≥ 4): {total_rewards}\")\n",
    "print(f\"Average Reward: {total_rewards / total_interactions:.4f}\")"
   ]
  },
  {
   "cell_type": "markdown",
   "metadata": {},
   "source": [
    "# Evaluation precision@k"
   ]
  },
  {
   "cell_type": "code",
   "execution_count": 14,
   "metadata": {},
   "outputs": [
    {
     "name": "stdout",
     "output_type": "stream",
     "text": [
      "0.02790697674418606\n"
     ]
    }
   ],
   "source": [
    "def is_recommended(row):\n",
    "    if (row['rating']>=4):\n",
    "        return 1\n",
    "    else:\n",
    "        return 0\n",
    "\n",
    "\n",
    "k = 5\n",
    "precision_k = 0\n",
    "unique_users = test['user_id'].unique()\n",
    "user_count = len(unique_users)\n",
    "Q_sorted = sorted(eg.Q.items(), key = lambda x:x[1], reverse = True)\n",
    "\n",
    "#If we decide to use only top k movies\n",
    "# selected_movies = [item[0] for item in Q_sorted[:k]]\n",
    "\n",
    "#If we decide to use exploration in e-greedy evaluation\n",
    "epsilon_eval = 0.1\n",
    "selected_movies = []\n",
    "counter = 0\n",
    "for i in range(k):\n",
    "    random_number = random.random()\n",
    "    if random_number <= epsilon_eval:\n",
    "        random_movie = random.choice(eg.arms)\n",
    "        selected_movies.append(random_movie)\n",
    "    else:\n",
    "        selected_movies.append(Q_sorted[counter][0])\n",
    "        counter += 1\n",
    "        \n",
    "\n",
    "for user in unique_users:\n",
    "    \n",
    "    filtered_test = test.loc[(test['user_id'] == user) & (test['movie_id'].isin(selected_movies))].copy()\n",
    "    if len(filtered_test)>0:\n",
    "        filtered_test['result'] = filtered_test.apply(is_recommended, axis = 1)\n",
    "        count = filtered_test['result'].sum()\n",
    "        precision_k += (count/k)\n",
    "precision_k = precision_k/user_count\n",
    "print(precision_k)\n",
    "   "
   ]
  },
  {
   "cell_type": "markdown",
   "metadata": {},
   "source": [
    "### Average cumulative rewards with simulation comparing different espilons"
   ]
  },
  {
   "cell_type": "code",
   "execution_count": 9,
   "metadata": {},
   "outputs": [
    {
     "data": {
      "image/png": "[encoded data removed]",
      "text/plain": [
       "<Figure size 432x288 with 1 Axes>"
      ]
     },
     "metadata": {
      "needs_background": "light"
     },
     "output_type": "display_data"
    }
   ],
   "source": [
    "epsilons = [0.1,0.2,0.3]\n",
    "\n",
    "num_simulations = 100\n",
    "\n",
    "for epsilon in epsilons:\n",
    "    \n",
    "    all_runs = [] # stores cumulative rewards from each simulation\n",
    "    \n",
    "    for sim in range(num_simulations):\n",
    "     \n",
    "        eg = EpsilonGreedy(unique_arms, epsilon)\n",
    "\n",
    "        total_interactions = 0\n",
    "        total_rewards = 0\n",
    "\n",
    "        num_interactions_per_user = 1  # <--- you can change this number\n",
    "\n",
    "        # unique_users = train['user_id'].unique()\n",
    "        unique_users = np.random.permutation(train['user_id'].unique())\n",
    "\n",
    "\n",
    "        cum_reward =[]\n",
    "        cur_step = 0\n",
    "\n",
    "        for user_id in unique_users:\n",
    "            for _ in range(num_interactions_per_user):\n",
    "                chosen_movie = eg.select_arm()\n",
    "                # Check if this user rated the chosen movie\n",
    "                row = train[(train['user_id'] == user_id) & (train['movie_id'] == chosen_movie)]\n",
    "\n",
    "                reward = 0\n",
    "                if len(row) > 0:\n",
    "                    rating = row.iloc[0]['rating']\n",
    "                    reward = int(rating >= 4)\n",
    "                    \n",
    "                eg.update(chosen_movie, reward)\n",
    "                total_rewards += reward\n",
    "                total_interactions += 1\n",
    "\n",
    "                cum_reward.append(total_rewards)\n",
    "                \n",
    "        all_runs.append(cum_reward)\n",
    "\n",
    "            \n",
    "    ave_cum_reward = np.mean(all_runs, axis=0)        \n",
    "    plt.plot(ave_cum_reward, label=f'epsilon {epsilon}')\n",
    "\n",
    "plt.title('epsilon-greedy: Average Cumulative Reward over Multiple Simulations')\n",
    "plt.xlabel('Interaction Step')\n",
    "plt.ylabel('Average Cumulative Reward')\n",
    "plt.legend()\n",
    "plt.show()"
   ]
  }
 ],
 "metadata": {
  "kernelspec": {
   "display_name": "Python 3",
   "language": "python",
   "name": "python3"
  },
  "language_info": {
   "codemirror_mode": {
    "name": "ipython",
    "version": 3
   },
   "file_extension": ".py",
   "mimetype": "text/x-python",
   "name": "python",
   "nbconvert_exporter": "python",
   "pygments_lexer": "ipython3",
   "version": "3.7.6"
  }
 },
 "nbformat": 4,
 "nbformat_minor": 4
}
